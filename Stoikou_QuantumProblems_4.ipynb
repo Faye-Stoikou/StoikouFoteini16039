{
 "cells": [
  {
   "cell_type": "markdown",
   "metadata": {},
   "source": [
    "## **ΥΠΟΛΟΓΙΣΤΙΚΗ ΕΡΓΑΣΙΑ IV: Χρονική εξέλιξη μιας κατάστασης σπιν $|s\\rangle$ εντός σταθερού μαγνητικού πεδίου**\n",
    "\n",
    "Θεωρήστε ένα κβαντικό σωματίδιο με αρχική κατάσταση σπιν $|s \\rangle =\\frac{1}{\\sqrt{2}}\\begin{bmatrix} 1 \\\\ 1\\end{bmatrix}$ τη χρονική στιγμή $t=0$. Στο σωματίδιο εφαρμόζεται εξωτερικό σταθερό μαγνητικό πεδίο, παράλληλο προς τον άξονα z: $\\vec{B}//\\vec{e_z}$. Χρησιμοποιώντας τις δυνατότητες γραμμικής άλγεβρας της `SymPy`, ολοκληρώστε τις ακόλουθες ερωτήσεις.\n",
    "\n",
    "**Παρατηρήσεις/Υποδείξεις:**\n",
    "\n",
    "1. Ο γενικός τύπος του τελεστή χρονικής εξέλιξης για μια κατάσταση σπιν, όταν ένα εξωτερικό μαγνητικό πεδίο $\\vec{B}$ εφαρμόζεται είναι: $$\\hat{U}(t) = e^{-iωt(\\vec{σ}\\cdot \\vec{B})}=cos(ωt)I_{2x2}-i (\\vec{σ}\\cdot \\vec{n})sin(ωt)$$ όπου $I_{2x2}$ είναι ο $2x2$ ταυτοτικός πίνακας, $\\vec{n}=\\frac{\\vec{B}}{|\\vec{B}|}$ και $\\vec{σ}=σ_1 \\vec{e_x} + σ_2 \\vec{e_y} + σ_3 \\vec{e_z}$ (με $σ_i$, $i=1,2,3$ τους πίνακες *Pauli*).\n",
    "\n",
    "2. Η μέση τιμή $\\langle \\hat{A} \\rangle_ψ$ ενός ερμιτιανού τελεστή $\\hat{A}$, ως προς μια κβαντική κατάσταση $|ψ\\rangle$ είναι ίση με: $$\\langle\\hat{A} \\rangle_ψ = \\langle ψ|\\hat{A}|ψ\\rangle$$\n",
    "\n",
    "3. Το διάνυσμα-τελεστής σπιν συνδέεται με το διάνυσμα-τελεστή των πινάκων Pauli μέσω της σχέσης:\n",
    "$$\\vec{s}=\\frac{\\hbar}{2}\\vec{σ}$$"
   ]
  },
  {
   "cell_type": "markdown",
   "metadata": {},
   "source": [
    "**Προετοιμασία**"
   ]
  },
  {
   "cell_type": "code",
   "execution_count": 163,
   "metadata": {},
   "outputs": [],
   "source": [
    "# Φορτώνουμε τη βιβλιοθήκη SymPy\n",
    "import sympy as smp"
   ]
  },
  {
   "cell_type": "code",
   "execution_count": 165,
   "metadata": {},
   "outputs": [
    {
     "data": {
      "text/latex": [
       "$\\displaystyle \\left[\\begin{matrix}0 & 1\\\\1 & 0\\end{matrix}\\right]$"
      ],
      "text/plain": [
       "Matrix([\n",
       "[0, 1],\n",
       "[1, 0]])"
      ]
     },
     "metadata": {},
     "output_type": "display_data"
    },
    {
     "data": {
      "text/latex": [
       "$\\displaystyle \\left[\\begin{matrix}0 & - i\\\\i & 0\\end{matrix}\\right]$"
      ],
      "text/plain": [
       "Matrix([\n",
       "[0, -I],\n",
       "[I,  0]])"
      ]
     },
     "metadata": {},
     "output_type": "display_data"
    },
    {
     "data": {
      "text/latex": [
       "$\\displaystyle \\left[\\begin{matrix}1 & 0\\\\0 & -1\\end{matrix}\\right]$"
      ],
      "text/plain": [
       "Matrix([\n",
       "[1,  0],\n",
       "[0, -1]])"
      ]
     },
     "metadata": {},
     "output_type": "display_data"
    },
    {
     "data": {
      "text/latex": [
       "$\\displaystyle \\left[\\begin{matrix}1 & 0\\\\0 & 1\\end{matrix}\\right]$"
      ],
      "text/plain": [
       "Matrix([\n",
       "[1, 0],\n",
       "[0, 1]])"
      ]
     },
     "metadata": {},
     "output_type": "display_data"
    },
    {
     "data": {
      "text/latex": [
       "$\\displaystyle \\left[\\begin{matrix}\\frac{\\sqrt{2}}{2}\\\\\\frac{\\sqrt{2}}{2}\\end{matrix}\\right]$"
      ],
      "text/plain": [
       "Matrix([\n",
       "[sqrt(2)/2],\n",
       "[sqrt(2)/2]])"
      ]
     },
     "metadata": {},
     "output_type": "display_data"
    }
   ],
   "source": [
    "# Ορισμός χρήσιμων συμβόλων\n",
    "t,omega,hbar = smp.symbols(\"t ω hbar\",positive=True)\n",
    "i = smp.I\n",
    "\n",
    "# Ορίστε τους πίνακς Pauli και εκτυπώστε τους\n",
    "sigma_1 = smp.Matrix([[0, 1],\n",
    "                  [1, 0]])  # σ_x\n",
    "sigma_2 = smp.Matrix([[0, -i],\n",
    "                  [i, 0]])  # σ_y\n",
    "sigma_3 = smp.Matrix([[1, 0],\n",
    "                  [0, -1]]) # σ_z\n",
    "\n",
    "display(sigma_1)\n",
    "display(sigma_2)\n",
    "display(sigma_3)\n",
    "\n",
    "# Ορίστε τον ταυτοτικό πίνακα 2x2 και εκτυπώστε τον\n",
    "iden_2x2 = smp.Matrix( [[1, 0],\n",
    "                   [0, 1]])\n",
    "\n",
    "display(iden_2x2)\n",
    "\n",
    "# Ορίστε την αρχική κατάσταση-spin σε μορφή πίνακα και εκτυπώστε την\n",
    "spin_init = (1/smp.sqrt(2)) * smp.Matrix([[1],\n",
    "                                      [1]])\n",
    "\n",
    "display(spin_init)"
   ]
  },
  {
   "cell_type": "markdown",
   "metadata": {},
   "source": [
    "**Ερώτηση 1** \n",
    "\n",
    "Δείξτε ότι ο τελεστής της χρονικής εξέλιξης $\\hat{U}(t)$ (της spin-κατάστασης του σωματιδίου) έχει την ακόλουθη μορφή μήτρας: \n",
    "$$\\begin{bmatrix} e^{-iωt} & 0 \\\\ 0 & e^{iωt}\\end{bmatrix} ή \\begin{bmatrix} cos(ωt)-isin(ωt) & 0 \\\\ 0 & cos(ωt)+isin(ωt)\\end{bmatrix}$$\n",
    "Εξηγήστε στο παρακάτω **Markdown** κελί το σκεπτικό σας για να καταλήξετε στο συγκεκριμένο αποτέλεσμα."
   ]
  },
  {
   "cell_type": "markdown",
   "metadata": {},
   "source": [
    "**Εξήγηση**\n"
   ]
  },
  {
   "cell_type": "markdown",
   "metadata": {},
   "source": [
    "Για $\\vec{B}//\\vec{e_z}$ προκύπτει ότι $\\vec{n} = \\vec{e_z}$ και άρα $\\vec{\\sigma} \\cdot \\vec{n} = \\sigma_3 = \\begin{bmatrix}1 & 0 \\\\ 0 & -1\\end{bmatrix}$.\n",
    "\n",
    "Άρα:\n",
    "\n",
    "$$\n",
    "\\hat{U}(t) = e^{-i \\omega t \\sigma_3} = \n",
    "\\begin{bmatrix}\n",
    "e^{-i\\omega t} & 0 \\\\\n",
    "0 & e^{i\\omega t}\n",
    "\\end{bmatrix}\n",
    "$$\n",
    "\n",
    "Εναλλακτικά, χρησιμοποιώντας τον τύπο του Euler:\n",
    "\n",
    "$$\n",
    "e^{\\pm i\\omega t} = \\cos(\\omega t) \\pm i\\sin(\\omega t)\n",
    "$$\n",
    "\n",
    "προκύπτει ισοδύναμα:\n",
    "\n",
    "$$\n",
    "\\hat{U}(t) = \n",
    "\\begin{bmatrix}\n",
    "\\cos(\\omega t) - i \\sin(\\omega t) & 0 \\\\\n",
    "0 & \\cos(\\omega t) + i \\sin(\\omega t)\n",
    "\\end{bmatrix}\n",
    "$$\n",
    "\n",
    "Και οι δύο μορφές είναι ισοδύναμες και περιγράφουν τη χρονική εξέλιξη της κατάστασης spin σε σταθερό μαγνητικό πεδίο κατά τον άξονα $z$.\n",
    "\n"
   ]
  },
  {
   "cell_type": "code",
   "execution_count": 170,
   "metadata": {},
   "outputs": [
    {
     "data": {
      "text/latex": [
       "$\\displaystyle \\left[\\begin{matrix}e^{- i t ω} & 0\\\\0 & e^{i t ω}\\end{matrix}\\right]$"
      ],
      "text/plain": [
       "Matrix([\n",
       "[exp(-I*t*ω),          0],\n",
       "[          0, exp(I*t*ω)]])"
      ]
     },
     "metadata": {},
     "output_type": "display_data"
    },
    {
     "data": {
      "text/latex": [
       "$\\displaystyle \\left[\\begin{matrix}e^{- i t ω} & 0\\\\0 & e^{i t ω}\\end{matrix}\\right]$"
      ],
      "text/plain": [
       "Matrix([\n",
       "[exp(-I*t*ω),          0],\n",
       "[          0, exp(I*t*ω)]])"
      ]
     },
     "metadata": {},
     "output_type": "display_data"
    },
    {
     "data": {
      "text/latex": [
       "$\\displaystyle \\left[\\begin{matrix}- i \\sin{\\left(t ω \\right)} + \\cos{\\left(t ω \\right)} & 0\\\\0 & i \\sin{\\left(t ω \\right)} + \\cos{\\left(t ω \\right)}\\end{matrix}\\right]$"
      ],
      "text/plain": [
       "Matrix([\n",
       "[-I*sin(t*ω) + cos(t*ω),                     0],\n",
       "[                     0, I*sin(t*ω) + cos(t*ω)]])"
      ]
     },
     "metadata": {},
     "output_type": "display_data"
    },
    {
     "data": {
      "text/latex": [
       "$\\displaystyle \\left[\\begin{matrix}e^{- i t ω} & 0\\\\0 & e^{i t ω}\\end{matrix}\\right]$"
      ],
      "text/plain": [
       "Matrix([\n",
       "[exp(-I*t*ω),          0],\n",
       "[          0, exp(I*t*ω)]])"
      ]
     },
     "metadata": {},
     "output_type": "display_data"
    }
   ],
   "source": [
    "#Με simplify\n",
    "\n",
    "#Τριγωνομετρική Μορφή\n",
    "def U_trig(t, ω):\n",
    "    U = smp.cos(ω*t)*iden_2x2 - i*smp.sin(ω*t)*sigma_3  \n",
    "    return smp.simplify(U)\n",
    "\n",
    "display(U_trig(t, omega))\n",
    "\n",
    "#Εκθετική Μορφή\n",
    "def U_exp(t, ω):\n",
    "    U = smp.Matrix([\n",
    "        [smp.exp(-i*ω*t), 0],\n",
    "        [0, smp.exp(i*ω*t)]\n",
    "    ])\n",
    "    return smp.simplify(U)\n",
    "\n",
    "display(U_exp(t, omega))\n",
    "\n",
    "#Xωρίς simplify\n",
    "\n",
    "#Τριγωνομετρική μορφή χωρίς simplify\n",
    "def U_trig_unsimplify(t, ω):\n",
    "    return smp.cos(ω*t)*iden_2x2 - i*smp.sin(ω*t)*sigma_3\n",
    "    \n",
    "display(U_trig_unsimplify(t, omega))\n",
    "\n",
    "# 3. Εκθετική μορφή χωρίς simplify\n",
    "def U_exp_unsimplify(t, ω):\n",
    "    return smp.Matrix([\n",
    "        [smp.exp(-i*ω*t), 0],\n",
    "        [0, smp.exp(i*ω*t)]\n",
    "    ])\n",
    "display(U_exp_unsimplify(t, omega))"
   ]
  },
  {
   "cell_type": "markdown",
   "metadata": {},
   "source": [
    "**Ερώτηση 2** \n",
    "\n",
    "**α)** Ορίστε μια συνάρτηση που επιστρέφει τη χρονική εξέλιξη της κατάστασης σπιν του σωματιδίου $|s(t)\\rangle$ σε μορφή μήτρας και εμφανίστε τη συμβολική μορφή της $|s(t)\\rangle$.\n",
    "\n",
    "**Βοήθεια**\n",
    "\n",
    "Για να λάβουμε την χρονική εξέλιξη $|s(t)\\rangle$ της spin-κατάστασης ενός σωματιδίου, αρκεί να εφαρμόσουμε τον τελεστή $\\hat{U}(t)$, πολλαπλασιάζοντας την αρχική spin-κατάσταση $|s\\rangle$ από τα αριστερά. Δηλαδή:\n",
    "\n",
    "$$|s(t)\\rangle=\\hat{U}(t)|s\\rangle$$"
   ]
  },
  {
   "cell_type": "code",
   "execution_count": 173,
   "metadata": {},
   "outputs": [
    {
     "data": {
      "text/latex": [
       "$\\displaystyle \\left[\\begin{matrix}\\frac{\\sqrt{2} e^{- i t ω}}{2}\\\\\\frac{\\sqrt{2} e^{i t ω}}{2}\\end{matrix}\\right]$"
      ],
      "text/plain": [
       "Matrix([\n",
       "[sqrt(2)*exp(-I*t*ω)/2],\n",
       "[ sqrt(2)*exp(I*t*ω)/2]])"
      ]
     },
     "metadata": {},
     "output_type": "display_data"
    }
   ],
   "source": [
    "# Ορισμός και εκτύπωση της χρονικής εξέλιξης της spin-κατάστασης του σωματιδίου\n",
    "\n",
    "def spin_t(t, ω):\n",
    "    # Μπορείς να αλλάξεις την U_trig_simpl με άλλη μορφή αν θέλεις\n",
    "    return smp.simplify(U_exp(t, ω) * spin_init)\n",
    "\n",
    "display(spin_t(t, omega))"
   ]
  },
  {
   "cell_type": "markdown",
   "metadata": {},
   "source": [
    "**β)** Βρείτε την μορφή της $|s(t)\\rangle$ τη χρονική στιγμή $t=2s$, όταν $ω=\\frac{π}{3}Hz$."
   ]
  },
  {
   "cell_type": "code",
   "execution_count": 176,
   "metadata": {},
   "outputs": [
    {
     "data": {
      "text/latex": [
       "$\\displaystyle \\left[\\begin{matrix}- \\frac{\\sqrt[3]{-1} \\sqrt{2}}{2}\\\\\\frac{\\left(-1\\right)^{\\frac{2}{3}} \\sqrt{2}}{2}\\end{matrix}\\right]$"
      ],
      "text/plain": [
       "Matrix([\n",
       "[-(-1)**(1/3)*sqrt(2)/2],\n",
       "[ (-1)**(2/3)*sqrt(2)/2]])"
      ]
     },
     "metadata": {},
     "output_type": "display_data"
    }
   ],
   "source": [
    "#Υπολογισμός της χρονικής εξέλιξης της κατάστασης για t = 2s και ω = π/3 Hz\n",
    "\n",
    "#Ορίζουμε τις συγκεκριμένες τιμές για τις μεταβλητές \n",
    "t_value = 2\n",
    "omega_value = smp.pi / 3\n",
    "\n",
    "#Αντικαθιστούμε τις τιμές \n",
    "spin_at_value = spin_t(t_value, omega_value)\n",
    "\n",
    "display(spin_at_value)"
   ]
  },
  {
   "cell_type": "markdown",
   "metadata": {},
   "source": [
    "**Ερώτηση 3** \n",
    "\n",
    "**α)** Βρείτε τη συμβολική μορφή των ακόλουθων μέσων τιμών: $\\langle \\hat{s}_x \\rangle_t$, $\\langle \\hat{s}_y \\rangle_t$ και $\\langle \\hat{s}_z \\rangle_t$, ως προς την κατάσταση σπιν $|s(t)\\rangle$. "
   ]
  },
  {
   "cell_type": "code",
   "execution_count": 179,
   "metadata": {},
   "outputs": [
    {
     "data": {
      "text/latex": [
       "$\\displaystyle \\left[\\begin{matrix}0 & \\frac{\\hbar}{2}\\\\\\frac{\\hbar}{2} & 0\\end{matrix}\\right]$"
      ],
      "text/plain": [
       "Matrix([\n",
       "[     0, hbar/2],\n",
       "[hbar/2,      0]])"
      ]
     },
     "metadata": {},
     "output_type": "display_data"
    },
    {
     "data": {
      "text/latex": [
       "$\\displaystyle \\left[\\begin{matrix}0 & - \\frac{i \\hbar}{2}\\\\\\frac{i \\hbar}{2} & 0\\end{matrix}\\right]$"
      ],
      "text/plain": [
       "Matrix([\n",
       "[       0, -I*hbar/2],\n",
       "[I*hbar/2,         0]])"
      ]
     },
     "metadata": {},
     "output_type": "display_data"
    },
    {
     "data": {
      "text/latex": [
       "$\\displaystyle \\left[\\begin{matrix}\\frac{\\hbar}{2} & 0\\\\0 & - \\frac{\\hbar}{2}\\end{matrix}\\right]$"
      ],
      "text/plain": [
       "Matrix([\n",
       "[hbar/2,       0],\n",
       "[     0, -hbar/2]])"
      ]
     },
     "metadata": {},
     "output_type": "display_data"
    }
   ],
   "source": [
    "# Ορισμός και εκτύπωση των spin-πινάκων s_x,s_y και s_z\n",
    "s_x = (hbar / 2) * sigma_1\n",
    "s_y = (hbar / 2) * sigma_2\n",
    "s_z = (hbar / 2) * sigma_3\n",
    "\n",
    "# γράψτε παραπάνω τον σωστό τύπο των πινάκων s_x,s_y και s_z\n",
    "\n",
    "display(s_x)\n",
    "display(s_y)\n",
    "display(s_z)"
   ]
  },
  {
   "cell_type": "code",
   "execution_count": 181,
   "metadata": {},
   "outputs": [
    {
     "data": {
      "text/latex": [
       "$\\displaystyle \\left[\\begin{matrix}\\frac{\\hbar \\cos{\\left(2 t ω \\right)}}{2}\\end{matrix}\\right]$"
      ],
      "text/plain": [
       "Matrix([[hbar*cos(2*t*ω)/2]])"
      ]
     },
     "metadata": {},
     "output_type": "display_data"
    },
    {
     "data": {
      "text/latex": [
       "$\\displaystyle \\left[\\begin{matrix}\\frac{\\hbar \\sin{\\left(2 t ω \\right)}}{2}\\end{matrix}\\right]$"
      ],
      "text/plain": [
       "Matrix([[hbar*sin(2*t*ω)/2]])"
      ]
     },
     "metadata": {},
     "output_type": "display_data"
    },
    {
     "data": {
      "text/latex": [
       "$\\displaystyle \\left[\\begin{matrix}0\\end{matrix}\\right]$"
      ],
      "text/plain": [
       "Matrix([[0]])"
      ]
     },
     "metadata": {},
     "output_type": "display_data"
    }
   ],
   "source": [
    "# Εύρεση και εκτύπωση των ζητούμενων μέσων τιμών\n",
    "\n",
    "#Ορίζουμε την ερμιτιανό συζηγή κατάσταση\n",
    "spin_t_H = spin_t(t, omega).H \n",
    "\n",
    "# Υπολογισμός μέσων τιμών\n",
    "mean_s_x = smp.simplify(spin_t_H * s_x * spin_t(t, omega)) # <s_x>(t)\n",
    "mean_s_y = smp.simplify(spin_t_H * s_y * spin_t(t, omega)) # <s_y>(t)\n",
    "mean_s_z = smp.simplify(spin_t_H * s_z * spin_t(t, omega)) # <s_z>(t)\n",
    "\n",
    "display(mean_s_x)\n",
    "display(mean_s_y)\n",
    "display(mean_s_z)"
   ]
  },
  {
   "cell_type": "markdown",
   "metadata": {},
   "source": [
    "**β)** Ορίστε τις μέσες τιμές $\\langle \\hat{s}_x \\rangle_t$ και $\\langle \\hat{s}_y \\rangle_t$ ως αριθμητικές συναρτήσεις των $t$ και $ω$, χρησιμοποιώντας την εντολή `lambdify()`. Θεωρείστε ότι $\\hbar=1$, $ω=\\frac{π}{4}Hz$ και δημιουργήστε ένα `NumPy` linspace 100 σημείων του $t$, στο διάστημα $[0,4]s$. Φτιάξτε μια γραφική παράσταση χρησιμοποιώντας τις τιμές της αριθμητικής συνάρτησης $\\langle \\hat{s}_x \\rangle_t$ στα σημεία του linspace ως συντεταγμένες στον οριζόντιο άξονα και τις τιμές της αριθμητικής συνάρτησης $\\langle \\hat{s}_y \\rangle_t$ στα σημεία του linspace ως συντεταγμένες στον κατακόρυφο άξονα. Σχολιάστε το αποτέλεσμα."
   ]
  },
  {
   "cell_type": "code",
   "execution_count": 184,
   "metadata": {},
   "outputs": [
    {
     "data": {
      "image/png": "[encoded data removed]",
      "text/plain": [
       "<Figure size 640x480 with 1 Axes>"
      ]
     },
     "metadata": {},
     "output_type": "display_data"
    }
   ],
   "source": [
    "mean_s_x_num = smp.lambdify([t, omega], mean_s_x[0].subs(hbar, 1), \"numpy\")\n",
    "mean_s_y_num = smp.lambdify([t, omega], mean_s_y[0].subs(hbar, 1), \"numpy\")\n",
    "\n",
    "from numpy import linspace, pi\n",
    "t_space = linspace(0, 4, 100) #linspace 100 σημείων στο διάστημα [0, 4]\n",
    "\n",
    "# εισαγωγή της βιβλιοθήκης matplotlib για γραφικές παραστάσεις\n",
    "import matplotlib.pyplot as plt \n",
    "\n",
    "omega_val = pi / 4\n",
    "\n",
    "import matplotlib.pyplot as plt\n",
    "\n",
    "plt.plot(mean_s_x_num(t_space,omega_val),mean_s_y_num(t_space,omega_val))\n",
    "plt.axis(\"equal\") # δοκιμάστε να μετατρέψετε σε σχόλιο τη συγκεκριμένη εντολή και ξανατρέξτε το κελί, τι παρατηρείτε;\n",
    "plt.xlabel(r\"$\\langle \\hat{s}_x \\rangle_t$\")\n",
    "plt.ylabel(r\"$\\langle \\hat{s}_y \\rangle_t$\")\n",
    "plt.title(\"Τροχιά στον χώρο σπιν: (⟨s_x⟩, ⟨s_y⟩)\")\n",
    "plt.grid(True)\n",
    "plt.show()"
   ]
  },
  {
   "cell_type": "code",
   "execution_count": 186,
   "metadata": {},
   "outputs": [
    {
     "data": {
      "image/png": "[encoded data removed]",
      "text/plain": [
       "<Figure size 640x480 with 1 Axes>"
      ]
     },
     "metadata": {},
     "output_type": "display_data"
    }
   ],
   "source": [
    "mean_s_x_num = smp.lambdify([t, omega], mean_s_x[0].subs(hbar, 1), \"numpy\")\n",
    "mean_s_y_num = smp.lambdify([t, omega], mean_s_y[0].subs(hbar, 1), \"numpy\")\n",
    "\n",
    "from numpy import linspace, pi\n",
    "t_space = linspace(0, 4, 100) #linspace 100 σημείων στο διάστημα [0, 4]\n",
    "\n",
    "#Εισαγωγή της βιβλιοθήκης matplotlib για γραφικές παραστάσεις\n",
    "import matplotlib.pyplot as plt \n",
    "\n",
    "omega_val = pi / 4\n",
    "\n",
    "import matplotlib.pyplot as plt\n",
    "\n",
    "plt.plot(mean_s_x_num(t_space,omega_val),mean_s_y_num(t_space,omega_val))\n",
    "#plt.axis(\"equal\") # δοκιμάστε να μετατρέψετε σε σχόλιο τη συγκεκριμένη εντολή και ξανατρέξτε το κελί, τι παρατηρείτε;\n",
    "plt.xlabel(r\"$\\langle \\hat{s}_x \\rangle_t$\")\n",
    "plt.ylabel(r\"$\\langle \\hat{s}_y \\rangle_t$\")\n",
    "plt.title(\"Τροχιά στον χώρο σπιν: (⟨s_x⟩, ⟨s_y⟩)\")\n",
    "plt.grid(True)\n",
    "plt.show()"
   ]
  },
  {
   "cell_type": "markdown",
   "metadata": {},
   "source": [
    "**Σχολιασμός αποτελέσματος**"
   ]
  },
  {
   "cell_type": "markdown",
   "metadata": {},
   "source": [
    "Η παραγόμενη γραφική παράσταση δείχνει την τροχιά της μέσης τιμής του σπιν στον χώρο ($\\langle \\hat{s}_x \\rangle_t$, $\\langle \\hat{s}_y \\rangle_t$), δηλαδή το πώς εξελίσσεται η κατάσταση σπιν στο επίπεδο x-y, εξαιτίας της δράσης του σταθερού μαγνητικού πεδίου κατά τον άξονα z.\n",
    "\n",
    "- Όταν χρησιμοποιούμε την εντολή plt.axis(\"equal\"), οι μονάδες στους άξονες x και y έχουν ίδια γραφική κλίμακα, και η τροχιά εμφανίζεται κυκλική όπως αναμένεται από τη φυσική του προβλήματος.\n",
    "- Όταν αφαιρούμε την εντολή αυτή, η matplotlib κλιμακώνει αυτόματα τους άξονες, προκαλώντας οπτική παραμόρφωση της τροχιάς σε έλλειψη. Η καμπύλη είναι ακόμα μαθηματικά κυκλική, όμως παραμορφώνεται στο γράφημα.\n",
    "\n",
    "- Φυσική ερμηνεία: Η κυκλική τροχιά αντιστοιχεί στην προκαθορισμένη περιστροφή του διανύσματος σπιν γύρω από τον άξονα του μαγνητικού πεδίου. Η μέση τιμή του σπιν στο επίπεδο xy διαγράφει κύκλο, ενώ η z-συνιστώσα παραμένει σταθερή (στην περίπτωση αυτή: μηδέν).\n"
   ]
  },
  {
   "cell_type": "code",
   "execution_count": null,
   "metadata": {},
   "outputs": [],
   "source": []
  }
 ],
 "metadata": {
  "kernelspec": {
   "display_name": "Python 3 (ipykernel)",
   "language": "python",
   "name": "python3"
  },
  "language_info": {
   "codemirror_mode": {
    "name": "ipython",
    "version": 3
   },
   "file_extension": ".py",
   "mimetype": "text/x-python",
   "name": "python",
   "nbconvert_exporter": "python",
   "pygments_lexer": "ipython3",
   "version": "3.12.7"
  }
 },
 "nbformat": 4,
 "nbformat_minor": 4
}
